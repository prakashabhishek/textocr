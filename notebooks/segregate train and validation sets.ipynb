{
 "cells": [
  {
   "cell_type": "code",
   "execution_count": 1,
   "id": "82b109e5",
   "metadata": {},
   "outputs": [],
   "source": [
    "import os\n",
    "import shutil"
   ]
  },
  {
   "cell_type": "code",
   "execution_count": null,
   "id": "8d353480",
   "metadata": {},
   "outputs": [],
   "source": [
    "# segregate train and validation images into separate folders\n",
    "# this is a one time process so converting the cell type to Raw\n",
    "\n",
    "path_val_images = '../dataset/validation_images'\n",
    "if not os.path.exists(path_val_images):\n",
    "    os.makedirs(path_val_images)\n",
    "    \n",
    "    \n",
    "for k,v in val_annotation['imgs'].items():\n",
    "    image = os.path.split(v['file_name'])[1]\n",
    "    shutil.move(os.path.join(path_train_images, image), os.path.join(path_val_images, image))"
   ]
  }
 ],
 "metadata": {
  "kernelspec": {
   "display_name": "Python 3 (ipykernel)",
   "language": "python",
   "name": "python3"
  },
  "language_info": {
   "codemirror_mode": {
    "name": "ipython",
    "version": 3
   },
   "file_extension": ".py",
   "mimetype": "text/x-python",
   "name": "python",
   "nbconvert_exporter": "python",
   "pygments_lexer": "ipython3",
   "version": "3.8.12"
  }
 },
 "nbformat": 4,
 "nbformat_minor": 5
}
